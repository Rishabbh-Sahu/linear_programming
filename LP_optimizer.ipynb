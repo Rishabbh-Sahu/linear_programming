{
 "cells": [
  {
   "cell_type": "markdown",
   "metadata": {},
   "source": [
    "# Solving Optimization using PuLP (Linear programming)"
   ]
  },
  {
   "cell_type": "markdown",
   "metadata": {},
   "source": [
    "#### Problem statement\n"
   ]
  },
  {
   "attachments": {
    "image-3.png": {
     "image/png": "[encoded data removed]"
    }
   },
   "cell_type": "markdown",
   "metadata": {},
   "source": [
    "Company ABC produces 3 items (A , B and C for instance) from two raw material lets say mat1 and mat2. Find below the raw material Mix to create items A, B and C below with Raw material's availabilities - \n",
    "\n",
    "![image-3.png](attachment:image-3.png)"
   ]
  },
  {
   "cell_type": "markdown",
   "metadata": {},
   "source": [
    "#### Ojbective - \n",
    "ABC wants to determine the best (optimal) material mix of items A, B and C that maximizes the total daily profit. "
   ]
  },
  {
   "cell_type": "markdown",
   "metadata": {},
   "source": [
    "#### <center> Mathematical Formulation\n",
    "#### Decision Variables - \n",
    "x1 - Item A daily produce in kg <br>\n",
    "x2 - Item B daily produce in kg <br>\n",
    "x3 - Item C daily produce in kg <br>"
   ]
  },
  {
   "cell_type": "markdown",
   "metadata": {},
   "source": [
    "#### Objective function: Maximize (1000*x1 + 2000*x2 + 3000*x3) </center>\n"
   ]
  },
  {
   "cell_type": "markdown",
   "metadata": {},
   "source": [
    "##### Subject to: \n",
    "x1 + 2*x2 + 3*x3 <=10 <br>\n",
    "2*x2 + 3*x3 <=5<br>\n",
    "x1,x2,x3>=0"
   ]
  },
  {
   "cell_type": "markdown",
   "metadata": {},
   "source": [
    "#### Solution - \n",
    "Python interface for optimization - Use PuLP (for linear programming models) to create decision variables and formulate the problem statement <br>\n",
    "Popular optimization solvers - CPLEX, Gurobi, GLPK, LINDO and Lingo etc."
   ]
  },
  {
   "cell_type": "code",
   "execution_count": 1,
   "metadata": {},
   "outputs": [],
   "source": [
    "# ! pip install pulp"
   ]
  },
  {
   "cell_type": "code",
   "execution_count": 2,
   "metadata": {},
   "outputs": [],
   "source": [
    "from pulp import *"
   ]
  },
  {
   "cell_type": "code",
   "execution_count": 3,
   "metadata": {},
   "outputs": [],
   "source": [
    "# create a list of items\n",
    "items = ['A', 'B', 'C']"
   ]
  },
  {
   "cell_type": "code",
   "execution_count": 4,
   "metadata": {},
   "outputs": [],
   "source": [
    "# A dictionary of items and profits / kg \n",
    "profit = {\n",
    "    'A':1000,\n",
    "    'B':2000,\n",
    "    'C':3000,\n",
    "}"
   ]
  },
  {
   "cell_type": "code",
   "execution_count": 5,
   "metadata": {},
   "outputs": [],
   "source": [
    "# A dictionary regarding the items compositions with raw materials\n",
    "rm_mat1 = {\n",
    "    'A':1,\n",
    "    'B':2,\n",
    "    'C':3,\n",
    "}\n",
    "\n",
    "rm_mat2 = {\n",
    "    'A':0,\n",
    "    'B':1,\n",
    "    'C':2,\n",
    "}"
   ]
  },
  {
   "cell_type": "code",
   "execution_count": 6,
   "metadata": {},
   "outputs": [],
   "source": [
    "# initialize the problem variable \n",
    "prb = LpProblem('maximize_profit',LpMaximize)"
   ]
  },
  {
   "cell_type": "code",
   "execution_count": 7,
   "metadata": {},
   "outputs": [
    {
     "data": {
      "text/plain": [
       "{'A': items_A, 'B': items_B, 'C': items_C}"
      ]
     },
     "execution_count": 7,
     "metadata": {},
     "output_type": "execute_result"
    }
   ],
   "source": [
    "item_vars = LpVariable.dicts('items',items,0);item_vars"
   ]
  },
  {
   "cell_type": "code",
   "execution_count": 8,
   "metadata": {},
   "outputs": [],
   "source": [
    "# Adding the objective function to the problem variable - total profit by producing items A,B and C\n",
    "prb += lpSum(profit[i]*item_vars[i] for i in items)"
   ]
  },
  {
   "cell_type": "code",
   "execution_count": 9,
   "metadata": {},
   "outputs": [],
   "source": [
    "# Adding constraints to the problem\n",
    "prb += lpSum([rm_mat1[i]*item_vars[i] for i in items]) <=10\n",
    "prb += lpSum([rm_mat2[i]*item_vars[i] for i in items]) <=5"
   ]
  },
  {
   "cell_type": "code",
   "execution_count": 10,
   "metadata": {},
   "outputs": [
    {
     "data": {
      "text/plain": [
       "[items_A, items_B, items_C]"
      ]
     },
     "execution_count": 10,
     "metadata": {},
     "output_type": "execute_result"
    }
   ],
   "source": [
    "# lets write the problem data into lp file \n",
    "prb.writeLP('maximize_profit.lp')"
   ]
  },
  {
   "cell_type": "code",
   "execution_count": 11,
   "metadata": {},
   "outputs": [
    {
     "data": {
      "text/plain": [
       "1"
      ]
     },
     "execution_count": 11,
     "metadata": {},
     "output_type": "execute_result"
    }
   ],
   "source": [
    "# lets solve this problem using PuLP solver\n",
    "prb.solve()"
   ]
  },
  {
   "cell_type": "code",
   "execution_count": 12,
   "metadata": {},
   "outputs": [
    {
     "name": "stdout",
     "output_type": "stream",
     "text": [
      "Status: Optimal\n",
      "items_A : 2.5 k.g.\n",
      "items_B : 0.0 k.g.\n",
      "items_C : 2.5 k.g.\n",
      "Maximum daily profit 10000.0\n"
     ]
    }
   ],
   "source": [
    "print(f'Status: {LpStatus[prb.status]}')\n",
    "# optimal values per items\n",
    "for i in prb.variables():\n",
    "    print(f'{i.name} : {i.varValue} k.g.')\n",
    "# Maximum profit\n",
    "print(f'Maximum daily profit {value(prb.objective)}')"
   ]
  },
  {
   "cell_type": "markdown",
   "metadata": {},
   "source": [
    "##### Due to scalability of this model, we can add more decision variables, constraints etc. 1000's of them and can be generalized to any type of linear programming problems. "
   ]
  }
 ],
 "metadata": {
  "kernelspec": {
   "display_name": "Python 3.6 (tensorflow)",
   "language": "python",
   "name": "tensorflow"
  },
  "language_info": {
   "codemirror_mode": {
    "name": "ipython",
    "version": 3
   },
   "file_extension": ".py",
   "mimetype": "text/x-python",
   "name": "python",
   "nbconvert_exporter": "python",
   "pygments_lexer": "ipython3",
   "version": "3.6.10"
  }
 },
 "nbformat": 4,
 "nbformat_minor": 4
}
