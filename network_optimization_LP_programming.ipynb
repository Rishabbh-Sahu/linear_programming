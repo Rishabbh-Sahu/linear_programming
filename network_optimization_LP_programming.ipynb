{
 "cells": [
  {
   "cell_type": "markdown",
   "metadata": {},
   "source": [
    "# Network Optimization using PuLP (Linear programming)"
   ]
  },
  {
   "cell_type": "markdown",
   "metadata": {},
   "source": [
    "#### Problem statement"
   ]
  },
  {
   "attachments": {
    "image-4.png": {
     "image/png": "[encoded data removed]"
    }
   },
   "cell_type": "markdown",
   "metadata": {},
   "source": [
    "Supplier and demand structure depicted in the graph below, where demands from the customers (end users) can only be catered thru suppliers. \n",
    "\n",
    "![image-4.png](attachment:image-4.png)\n",
    "<center>figure 1: The network representation of a general transportation problem</center>\n",
    "\n",
    "##### Objectives - \n",
    "Which supplier should be operating ?<br>\n",
    "How to allocate the demand to suppliers?"
   ]
  },
  {
   "cell_type": "markdown",
   "metadata": {},
   "source": [
    "#### Mathematical formulation\n",
    "Since there can be various suppliers and customers (end users), we need to use the indices to represent them.<br>\n",
    "- Suppliers can be represented as Si where 'i' can vary to denote supplier 1,2,3....and so on<br>\n",
    "- Customers can be represented as Cj where 'j' can vary to denote customer 1,2,3....and so on"
   ]
  },
  {
   "cell_type": "markdown",
   "metadata": {},
   "source": [
    "##### Parameters - \n",
    "dj = jth customer demand<br>\n",
    "cij = Unit cost of transportation from ith supplier to jth customer<br>\n",
    "fi = Fixed cost of opening supplier i<br>\n",
    "CAPi = Capacity of ith supplier "
   ]
  },
  {
   "cell_type": "markdown",
   "metadata": {},
   "source": [
    "#### Decision Variables (Continuous/Discrete)\n",
    "Qij = quantity of products transported from supplier i to customer j (Continuous) <br> \n",
    "Oi = if ith supplier is open 1, else 0 (Discrete)"
   ]
  },
  {
   "cell_type": "markdown",
   "metadata": {},
   "source": [
    "#### Objective function:  Minimize ΣQij*cij +  Σfi*Oi"
   ]
  },
  {
   "cell_type": "markdown",
   "metadata": {},
   "source": [
    "##### Subject to: \n",
    "ΣQij = dj <br>\n",
    "ΣQij <= CAPi*Oi<br>\n",
    "Oi ∈ {0,1}"
   ]
  },
  {
   "cell_type": "markdown",
   "metadata": {},
   "source": [
    "#### Solution - "
   ]
  },
  {
   "cell_type": "markdown",
   "metadata": {},
   "source": [
    "Python interface for optimization - Use PuLP (for linear programming models) to create decision variables and formulate the problem statement <br>\n",
    "Popular optimization solvers - CPLEX, Gurobi, GLPK, LINDO and Lingo etc."
   ]
  },
  {
   "cell_type": "code",
   "execution_count": 1,
   "metadata": {},
   "outputs": [],
   "source": [
    "# ! pip install pulp"
   ]
  },
  {
   "cell_type": "code",
   "execution_count": 2,
   "metadata": {},
   "outputs": [],
   "source": [
    "from pulp import *"
   ]
  },
  {
   "cell_type": "code",
   "execution_count": 3,
   "metadata": {},
   "outputs": [],
   "source": [
    "# create a list of variables which could be continuous/discrete in nature\n",
    "supplierNames = ['A','B','C','D'] # total 4 facilities\n",
    "supplierPoints = [0,1,2,3] \n",
    "fixedCost = [550000,710000,610000,650000]\n",
    "capacity = [40,40,40,40]\n",
    "productionCost = [12000,10000,13000,13000]\n",
    "\n",
    "demandPoints = [0,1,2,3,4,5,6,7,8] # total 9 customers/end-users/demands\n",
    "demand = [12,8,14,16,7,15,17,8,9]\n",
    "distances = [[120,140,0,270,365,180,310,680,480],\n",
    "             [340,515,365,320,0,175,290,660,120],\n",
    "             [130,320,180,250,175,0,290,590,310],\n",
    "             [400,420,310,30,290,290,0,370,210]\n",
    "            ]"
   ]
  },
  {
   "cell_type": "code",
   "execution_count": 4,
   "metadata": {},
   "outputs": [],
   "source": [
    "# initialize the problem variable \n",
    "prb = LpProblem('minimize_cost',LpMinimize)"
   ]
  },
  {
   "cell_type": "code",
   "execution_count": 5,
   "metadata": {},
   "outputs": [],
   "source": [
    "# Is Facility open (funtioning)\n",
    "openFacility = LpVariable.dicts('openFacility',supplierPoints,0,1,LpBinary)"
   ]
  },
  {
   "cell_type": "code",
   "execution_count": 6,
   "metadata": {},
   "outputs": [],
   "source": [
    "qtyShip = LpVariable.dicts('quantity',[(i,j) for i in openFacility for j in demandPoints],0,100)"
   ]
  },
  {
   "cell_type": "code",
   "execution_count": 7,
   "metadata": {},
   "outputs": [],
   "source": [
    "# Add objective funtion to the prb\n",
    "prb += lpSum([fixedCost[i]*openFacility[i] for i in supplierPoints]) + \\\n",
    "        lpSum([distances[i][j]*qtyShip[(i,j)] for i in supplierPoints for j in demandPoints])"
   ]
  },
  {
   "cell_type": "code",
   "execution_count": 8,
   "metadata": {},
   "outputs": [],
   "source": [
    "# Adding constraints to the problem\n",
    "# Demand side constraint\n",
    "for j in demandPoints:\n",
    "    prb += lpSum(qtyShip[(i,j)] for i in supplierPoints) == demand[j]\n",
    "    \n",
    "# Supplier side constraint\n",
    "for i in supplierPoints:\n",
    "    prb += lpSum(qtyShip[(i,j)] for j in demandPoints) <= (capacity[i]*openFacility[i])"
   ]
  },
  {
   "cell_type": "code",
   "execution_count": 9,
   "metadata": {},
   "outputs": [
    {
     "data": {
      "text/plain": [
       "[openFacility_0,\n",
       " openFacility_1,\n",
       " openFacility_2,\n",
       " openFacility_3,\n",
       " quantity_(0,_0),\n",
       " quantity_(0,_1),\n",
       " quantity_(0,_2),\n",
       " quantity_(0,_3),\n",
       " quantity_(0,_4),\n",
       " quantity_(0,_5),\n",
       " quantity_(0,_6),\n",
       " quantity_(0,_7),\n",
       " quantity_(0,_8),\n",
       " quantity_(1,_0),\n",
       " quantity_(1,_1),\n",
       " quantity_(1,_2),\n",
       " quantity_(1,_3),\n",
       " quantity_(1,_4),\n",
       " quantity_(1,_5),\n",
       " quantity_(1,_6),\n",
       " quantity_(1,_7),\n",
       " quantity_(1,_8),\n",
       " quantity_(2,_0),\n",
       " quantity_(2,_1),\n",
       " quantity_(2,_2),\n",
       " quantity_(2,_3),\n",
       " quantity_(2,_4),\n",
       " quantity_(2,_5),\n",
       " quantity_(2,_6),\n",
       " quantity_(2,_7),\n",
       " quantity_(2,_8),\n",
       " quantity_(3,_0),\n",
       " quantity_(3,_1),\n",
       " quantity_(3,_2),\n",
       " quantity_(3,_3),\n",
       " quantity_(3,_4),\n",
       " quantity_(3,_5),\n",
       " quantity_(3,_6),\n",
       " quantity_(3,_7),\n",
       " quantity_(3,_8)]"
      ]
     },
     "execution_count": 9,
     "metadata": {},
     "output_type": "execute_result"
    }
   ],
   "source": [
    "# lets write the problem data into lp file \n",
    "prb.writeLP('minimize_cost.lp')"
   ]
  },
  {
   "cell_type": "code",
   "execution_count": 10,
   "metadata": {},
   "outputs": [
    {
     "data": {
      "text/plain": [
       "1"
      ]
     },
     "execution_count": 10,
     "metadata": {},
     "output_type": "execute_result"
    }
   ],
   "source": [
    "# lets solve this problem using PuLP solver\n",
    "prb.solve()"
   ]
  },
  {
   "cell_type": "code",
   "execution_count": 11,
   "metadata": {},
   "outputs": [
    {
     "name": "stdout",
     "output_type": "stream",
     "text": [
      "Status: Optimal\n",
      "supplierNames[point] is open\n",
      "supplierNames[point] is closed\n",
      "supplierNames[point] is open\n",
      "supplierNames[point] is open\n",
      "openFacility_0 = 1.0\n",
      "openFacility_2 = 1.0\n",
      "openFacility_3 = 1.0\n",
      "quantity_(0,_0) = 12.0\n",
      "quantity_(0,_1) = 8.0\n",
      "quantity_(0,_2) = 14.0\n",
      "quantity_(2,_4) = 7.0\n",
      "quantity_(2,_5) = 15.0\n",
      "quantity_(2,_7) = 1.0\n",
      "quantity_(2,_8) = 9.0\n",
      "quantity_(3,_3) = 16.0\n",
      "quantity_(3,_6) = 17.0\n",
      "quantity_(3,_7) = 7.0\n",
      "The optimized minimum objective function value is 1820235.0\n"
     ]
    }
   ],
   "source": [
    "print(f'Status: {LpStatus[prb.status]}')\n",
    "for point in supplierPoints:\n",
    "    print(f'supplierNames[point] is {\"open\" if openFacility[point].varValue==1.0 else \"closed\"}')\n",
    "for var in prb.variables():\n",
    "    if var.varValue!=0:\n",
    "        print(f'{var.name} = {var.varValue}')\n",
    "# Minimized cost\n",
    "print(f'The optimized minimum objective function value is {value(prb.objective)}')"
   ]
  },
  {
   "cell_type": "markdown",
   "metadata": {},
   "source": [
    "###### Due to scalability of this model, we can add more decision variables, constraints etc. 1000's of them and can be generalized to any type of linear programming problems. "
   ]
  }
 ],
 "metadata": {
  "kernelspec": {
   "display_name": "Python 3.6 (tensorflow)",
   "language": "python",
   "name": "tensorflow"
  },
  "language_info": {
   "codemirror_mode": {
    "name": "ipython",
    "version": 3
   },
   "file_extension": ".py",
   "mimetype": "text/x-python",
   "name": "python",
   "nbconvert_exporter": "python",
   "pygments_lexer": "ipython3",
   "version": "3.6.10"
  }
 },
 "nbformat": 4,
 "nbformat_minor": 4
}
